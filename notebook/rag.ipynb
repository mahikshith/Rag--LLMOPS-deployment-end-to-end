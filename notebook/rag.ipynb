{
 "cells": [
  {
   "cell_type": "code",
   "execution_count": 1,
   "id": "c7324bfe",
   "metadata": {},
   "outputs": [
    {
     "name": "stdout",
     "output_type": "stream",
     "text": [
      "wassup mfs\n"
     ]
    }
   ],
   "source": [
    "print(\"wassup mfs\")"
   ]
  },
  {
   "cell_type": "markdown",
   "id": "de8aa15e",
   "metadata": {},
   "source": [
    "-->  Using gemini-2.0-flash-lite "
   ]
  },
  {
   "cell_type": "code",
   "execution_count": null,
   "id": "5049bcb3",
   "metadata": {},
   "outputs": [],
   "source": [
    "# ! uv pip install langchain openai tiktoken rapidocr-onnxruntime python-dotenv langchain-community \n",
    "\n",
    "! uv pip install langchain langchain-google-genai rapidocr-onnxruntime python-dotenv langchain-community"
   ]
  },
  {
   "cell_type": "markdown",
   "id": "4160df79",
   "metadata": {},
   "source": [
    "### Env var for api : "
   ]
  },
  {
   "cell_type": "code",
   "execution_count": 3,
   "id": "f43ad800",
   "metadata": {},
   "outputs": [],
   "source": [
    "import os \n",
    "from dotenv import load_dotenv\n",
    "load_dotenv()\n",
    "os.environ[\"GOOGLE_API_KEY\"] = os.getenv(\"GOOGLE_API_KEY\")\n",
    "\n"
   ]
  },
  {
   "cell_type": "markdown",
   "id": "f1d9d40b",
   "metadata": {},
   "source": [
    "### data ingestion : "
   ]
  },
  {
   "cell_type": "code",
   "execution_count": null,
   "id": "bb2a67e8",
   "metadata": {},
   "outputs": [],
   "source": []
  }
 ],
 "metadata": {
  "kernelspec": {
   "display_name": "mykee",
   "language": "python",
   "name": "python3"
  },
  "language_info": {
   "codemirror_mode": {
    "name": "ipython",
    "version": 3
   },
   "file_extension": ".py",
   "mimetype": "text/x-python",
   "name": "python",
   "nbconvert_exporter": "python",
   "pygments_lexer": "ipython3",
   "version": "3.12.10"
  }
 },
 "nbformat": 4,
 "nbformat_minor": 5
}
